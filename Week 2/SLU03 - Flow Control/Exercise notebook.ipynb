{
 "cells": [
  {
   "cell_type": "markdown",
   "metadata": {
    "deletable": false,
    "editable": false,
    "nbgrader": {
     "grade": false,
     "grade_id": "cell-5b6b029f0ce1dd2e",
     "locked": true,
     "schema_version": 1,
     "solution": false
    }
   },
   "source": [
    "# SLU03 - Exercise notebook"
   ]
  },
  {
   "cell_type": "code",
   "execution_count": null,
   "metadata": {},
   "outputs": [],
   "source": []
  },
  {
   "cell_type": "markdown",
   "metadata": {
    "deletable": false,
    "editable": false,
    "nbgrader": {
     "grade": false,
     "grade_id": "cell-49f2f0f2fc298a46",
     "locked": true,
     "schema_version": 1,
     "solution": false
    }
   },
   "source": [
    "## Start by importing these packages"
   ]
  },
  {
   "cell_type": "code",
   "execution_count": 60,
   "metadata": {
    "deletable": false,
    "editable": false,
    "nbgrader": {
     "grade": false,
     "grade_id": "cell-7dd7bfe836b5d985",
     "locked": true,
     "schema_version": 1,
     "solution": false
    }
   },
   "outputs": [],
   "source": [
    "# Just for evaluating the results.\n",
    "import math\n",
    "import json\n",
    "import hashlib\n",
    "\n",
    "#For extra visualization\n",
    "import matplotlib.pyplot as plt"
   ]
  },
  {
   "cell_type": "markdown",
   "metadata": {
    "deletable": false,
    "editable": false,
    "nbgrader": {
     "grade": false,
     "grade_id": "cell-25a5f67d60c2dfed",
     "locked": true,
     "schema_version": 1,
     "solution": false
    }
   },
   "source": [
    "## Exercise 1: Conditionals and boolean algebra\n",
    "\n"
   ]
  },
  {
   "cell_type": "markdown",
   "metadata": {
    "deletable": false,
    "editable": false,
    "nbgrader": {
     "grade": false,
     "grade_id": "cell-34bb7be0434b5ade",
     "locked": true,
     "schema_version": 1,
     "solution": false
    }
   },
   "source": [
    "## 1.1) Comparing Strings\n",
    "\n",
    "In this exercise we have a series of strings that we want to sort from **smaller to larger**.\n",
    "\n",
    "The answer should be a list where is **each element is a string that has lower value than the next string**:\n",
    "\n",
    "For example: if we sort the strings \"DDD\", \"XXX\" and \"AAA\" by **ascending order of value** and insert them into a list the solution should be `[\"AAA\", \"DDD\", \"XXX\"]`.\n"
   ]
  },
  {
   "cell_type": "markdown",
   "metadata": {
    "deletable": false,
    "editable": false,
    "nbgrader": {
     "grade": false,
     "grade_id": "cell-2b2792120ab04414",
     "locked": true,
     "schema_version": 1,
     "solution": false
    }
   },
   "source": [
    "### 1.1.1) Sorting bananas"
   ]
  },
  {
   "cell_type": "markdown",
   "metadata": {
    "deletable": false,
    "editable": false,
    "nbgrader": {
     "grade": false,
     "grade_id": "cell-bf1baf6b69373293",
     "locked": true,
     "schema_version": 1,
     "solution": false
    }
   },
   "source": [
    "Sort the strings:\n",
    "\n",
    "- `\"banana\"`\n",
    "- `\"ana\"`\n",
    "- `\"ANA\"`\n",
    "- `\"bananas\"`\n",
    "- `\"BANANA\"`"
   ]
  },
  {
   "cell_type": "code",
   "execution_count": 4,
   "metadata": {
    "deletable": false,
    "nbgrader": {
     "grade": false,
     "grade_id": "cell-a5bd49d98abf2410",
     "locked": false,
     "schema_version": 1,
     "solution": true
    }
   },
   "outputs": [],
   "source": [
    "# Create a list with the strings above sorted in ascendant order of value.\n",
    "# Assign the list to variable banana_list.\n",
    "\n",
    "#Make sure that you type the strings exactly.\n",
    "\n",
    "banana_list = [\"banana\",\"ana\",\"ANA\",\"bananas\",\"BANANA\"]\n",
    "banana_list.sort()\n",
    "# YOUR CODE HERE\n",
    "\n"
   ]
  },
  {
   "cell_type": "code",
   "execution_count": 5,
   "metadata": {
    "deletable": false,
    "editable": false,
    "nbgrader": {
     "grade": true,
     "grade_id": "cell-6b465d1d500666a0",
     "locked": true,
     "points": 1,
     "schema_version": 1,
     "solution": false
    }
   },
   "outputs": [
    {
     "name": "stdout",
     "output_type": "stream",
     "text": [
      "Your solution is correct!\n"
     ]
    }
   ],
   "source": [
    "banana_hash_0 = '482673bdd029354608338c077b71e987ba5571dfe7cd87329c50df73eae34fac'\n",
    "banana_hash_1 = '82379da710fc913d545b2d3ea7c6b7a48e5cc9f3c8c7f63a7927be3153325109'\n",
    "banana_hash_2 = '24d4b96f58da6d4a8512313bbd02a28ebf0ca95dec6e4c86ef78ce7f01e788ac'\n",
    "banana_hash_3 = 'b493d48364afe44d11c0165cf470a4164d1e2609911ef998be868d46ade3de4e'\n",
    "banana_hash_4 = 'e4ba5cbd251c98e6cd1c23f126a3b81d8d8328abc95387229850952b3ef9f904'\n",
    "\n",
    "assert isinstance(banana_list, list), \"Review the data type of banana_list.\"\n",
    "assert len(banana_list) == 5, \"The number of strings is incorrect.\"\n",
    "\n",
    "assert banana_hash_0 == hashlib.sha256(bytes(banana_list[0], encoding='utf8')).hexdigest(), \"At least one value is incorrect.\"\n",
    "assert banana_hash_1 == hashlib.sha256(bytes(banana_list[1], encoding='utf8')).hexdigest(), \"At least one value is incorrect.\"\n",
    "assert banana_hash_2 == hashlib.sha256(bytes(banana_list[2], encoding='utf8')).hexdigest(), \"At least one value is incorrect.\"\n",
    "assert banana_hash_3 == hashlib.sha256(bytes(banana_list[3], encoding='utf8')).hexdigest(), \"At least one value is incorrect.\"\n",
    "assert banana_hash_4 == hashlib.sha256(bytes(banana_list[4], encoding='utf8')).hexdigest(), \"At least one value is incorrect.\"\n",
    "print(\"Your solution is correct!\")"
   ]
  },
  {
   "cell_type": "markdown",
   "metadata": {
    "deletable": false,
    "editable": false,
    "nbgrader": {
     "grade": false,
     "grade_id": "cell-196c8dd6918ff771",
     "locked": true,
     "schema_version": 1,
     "solution": false
    }
   },
   "source": [
    "---"
   ]
  },
  {
   "cell_type": "markdown",
   "metadata": {
    "deletable": false,
    "editable": false,
    "nbgrader": {
     "grade": false,
     "grade_id": "cell-835bf362a6f3296d",
     "locked": true,
     "schema_version": 1,
     "solution": false
    }
   },
   "source": [
    "### 1.1.2) Sorting numbers as string\n",
    "\n",
    "Sort the strings:\n",
    "\n",
    "- `\"1\"`\n",
    "- `\"801\"`\n",
    "- `\"02\"`\n",
    "- `\"1000\"`"
   ]
  },
  {
   "cell_type": "code",
   "execution_count": 8,
   "metadata": {
    "deletable": false,
    "nbgrader": {
     "grade": false,
     "grade_id": "cell-cf0b9cd761180962",
     "locked": false,
     "schema_version": 1,
     "solution": true
    }
   },
   "outputs": [],
   "source": [
    "# Create a list with the strings above sorted in ascendent order of value.\n",
    "# Assign the list to variable string_number_list.\n",
    "\n",
    "#Make sure that you type the strings exactly.\n",
    "\n",
    "string_number_list = [\"1\",\"801\",\"02\",\"1000\"]\n",
    "string_number_list.sort()\n",
    "# YOUR CODE HERE"
   ]
  },
  {
   "cell_type": "code",
   "execution_count": 9,
   "metadata": {
    "deletable": false,
    "editable": false,
    "nbgrader": {
     "grade": true,
     "grade_id": "cell-ac16bba863ed00af",
     "locked": true,
     "points": 1,
     "schema_version": 1,
     "solution": false
    }
   },
   "outputs": [],
   "source": [
    "number_hash_0 = 'a953f09a1b6b6725b81956e9ad0b1eb49e3ad40004c04307ef8af6246a054116'\n",
    "number_hash_1 = '6b86b273ff34fce19d6b804eff5a3f5747ada4eaa22f1d49c01e52ddb7875b4b'\n",
    "number_hash_2 = '40510175845988f13f6162ed8526f0b09f73384467fa855e1e79b44a56562a58'\n",
    "number_hash_3 = '096012b7ebcaf56d1d63b2784d2b2bbdeae080d72ad6bd1b9f7018e62a3c37d0'\n",
    "\n",
    "assert isinstance(string_number_list, list), \"Review the data type of string_number_list.\"\n",
    "assert len(string_number_list) == 4, \"The number of strings is incorrect.\"\n",
    "\n",
    "assert number_hash_0 == hashlib.sha256(bytes(string_number_list[0], encoding='utf8')).hexdigest(), \"At least one value is incorrect.\"\n",
    "assert number_hash_1 == hashlib.sha256(bytes(string_number_list[1], encoding='utf8')).hexdigest(), \"At least one value is incorrect.\"\n",
    "assert number_hash_2 == hashlib.sha256(bytes(string_number_list[2], encoding='utf8')).hexdigest(), \"At least one value is incorrect.\"\n",
    "assert number_hash_3 == hashlib.sha256(bytes(string_number_list[3], encoding='utf8')).hexdigest(), \"At least one value is incorrect.\""
   ]
  },
  {
   "cell_type": "markdown",
   "metadata": {
    "deletable": false,
    "editable": false,
    "nbgrader": {
     "grade": false,
     "grade_id": "cell-30438747541d7fe9",
     "locked": true,
     "schema_version": 1,
     "solution": false
    }
   },
   "source": [
    "---"
   ]
  },
  {
   "cell_type": "markdown",
   "metadata": {
    "deletable": false,
    "editable": false,
    "nbgrader": {
     "grade": false,
     "grade_id": "cell-f053bd824f139d2f",
     "locked": true,
     "schema_version": 1,
     "solution": false
    }
   },
   "source": [
    "## 1.2)  Order of precedence\n",
    "\n",
    "In this exercise we have a boolean expression with a series of operators. Use the **table of precedence to identify the order in which the operations are executed**. Each operator is identified with a letter from `A` to `G`.\n",
    "The solution should be a **list** where the first element is the letter of the first operation to be performed, the second element is the second operation to be performed, and so on until the last operation to be performed.\n",
    "\n",
    "The result should resemble something like `[\"A\", \"B\", \"D\", \"G\", ...]`\n",
    "\n",
    "The string is:"
   ]
  },
  {
   "cell_type": "code",
   "execution_count": 12,
   "metadata": {
    "deletable": false,
    "editable": false,
    "nbgrader": {
     "grade": false,
     "grade_id": "cell-6f6eb2444d59a487",
     "locked": true,
     "schema_version": 1,
     "solution": false
    }
   },
   "outputs": [],
   "source": [
    "#You don't need to execute this cell!\n",
    "\n",
    "variable = 3 != 1+1 and (2**3 > 1 or False)\n",
    "#        A   B   C   D    E   F   G"
   ]
  },
  {
   "cell_type": "markdown",
   "metadata": {
    "deletable": false,
    "editable": false,
    "nbgrader": {
     "grade": false,
     "grade_id": "cell-91870a6f382baaba",
     "locked": true,
     "schema_version": 1,
     "solution": false
    }
   },
   "source": [
    "The letters that identify the operations are:\n",
    "- A: `=`\n",
    "- B: `!=`\n",
    "- C: `+`\n",
    "- D: `and`\n",
    "- E: `**`\n",
    "- F: `>`\n",
    "- G: `or`"
   ]
  },
  {
   "cell_type": "code",
   "execution_count": 147,
   "metadata": {
    "deletable": false,
    "nbgrader": {
     "grade": false,
     "grade_id": "cell-ca00a15a43742c1c",
     "locked": false,
     "schema_version": 1,
     "solution": true
    }
   },
   "outputs": [],
   "source": [
    "# Create a list named operators_list that contains the identifiers of the operators sorted by the execution order.\n",
    "# Make sure that you type the strings exactly.\n",
    "\n",
    "\n",
    "operators_list = [\"E\",\"F\",\"G\",\"C\",\"B\",\"D\",\"A\"]"
   ]
  },
  {
   "cell_type": "code",
   "execution_count": 148,
   "metadata": {
    "deletable": false,
    "editable": false,
    "nbgrader": {
     "grade": true,
     "grade_id": "cell-43f5849625865cc0",
     "locked": true,
     "points": 1,
     "schema_version": 1,
     "solution": false
    }
   },
   "outputs": [
    {
     "name": "stdout",
     "output_type": "stream",
     "text": [
      "Your solution is correct!\n"
     ]
    }
   ],
   "source": [
    "operators_hash_0 = 'a9f51566bd6705f7ea6ad54bb9deb449f795582d6529a0e22207b8981233ec58'\n",
    "operators_hash_1 = 'f67ab10ad4e4c53121b6a5fe4da9c10ddee905b978d3788d2723d7bfacbe28a9'\n",
    "operators_hash_2 = '333e0a1e27815d0ceee55c473fe3dc93d56c63e3bee2b3b4aee8eed6d70191a3'\n",
    "operators_hash_3 = '6b23c0d5f35d1b11f9b683f0b0a617355deb11277d91ae091d399c655b87940d'\n",
    "operators_hash_4 = 'df7e70e5021544f4834bbee64a9e3789febc4be81470df629cad6ddb03320a5c'\n",
    "operators_hash_5 = '3f39d5c348e5b79d06e842c114e6cc571583bbf44e4b0ebfda1a01ec05745d43'\n",
    "operators_hash_6 = '559aead08264d5795d3909718cdd05abd49572e84fe55590eef31a88a08fdffd'\n",
    "\n",
    "assert isinstance(operators_list, list), \"Review the data type of operators_list.\"\n",
    "assert len(operators_list) == 7, \"The number of strings is incorrect.\"\n",
    "\n",
    "assert operators_hash_0 == hashlib.sha256(bytes(operators_list[0], encoding='utf8')).hexdigest(), \"At least one value is incorrect.\"\n",
    "assert operators_hash_1 == hashlib.sha256(bytes(operators_list[1], encoding='utf8')).hexdigest(), \"At least one value is incorrect.\"\n",
    "assert operators_hash_2 == hashlib.sha256(bytes(operators_list[2], encoding='utf8')).hexdigest(), \"At least one value is incorrect.\"\n",
    "assert operators_hash_3 == hashlib.sha256(bytes(operators_list[3], encoding='utf8')).hexdigest(), \"At least one value is incorrect.\"\n",
    "assert operators_hash_4 == hashlib.sha256(bytes(operators_list[4], encoding='utf8')).hexdigest(), \"At least one value is incorrect.\"\n",
    "assert operators_hash_5 == hashlib.sha256(bytes(operators_list[5], encoding='utf8')).hexdigest(), \"At least one value is incorrect.\"\n",
    "assert operators_hash_6 == hashlib.sha256(bytes(operators_list[6], encoding='utf8')).hexdigest(), \"At least one value is incorrect.\"\n",
    "print(\"Your solution is correct!\")"
   ]
  },
  {
   "cell_type": "markdown",
   "metadata": {
    "deletable": false,
    "editable": false,
    "nbgrader": {
     "grade": false,
     "grade_id": "cell-8e6d4bc95c6c96be",
     "locked": true,
     "schema_version": 1,
     "solution": false
    }
   },
   "source": [
    "---"
   ]
  },
  {
   "cell_type": "markdown",
   "metadata": {
    "deletable": false,
    "editable": false,
    "nbgrader": {
     "grade": false,
     "grade_id": "cell-7ffe99898d22f7c4",
     "locked": true,
     "schema_version": 1,
     "solution": false
    }
   },
   "source": [
    "## 1.3)  `if-elif-else` statements\n",
    "\n",
    "In this exercise we'll review `if-elif-else` statements. Each code will have inputs and `if-elif-else` statements. The goal is to **follow the flow** of the `if-elif-else` statements and **predict the value of certain variable afect execution**.\n",
    "\n",
    "**Don't copy and execute the code**. If you can't follow these statements you won't be able to do the next exercises."
   ]
  },
  {
   "cell_type": "markdown",
   "metadata": {
    "deletable": false,
    "editable": false,
    "nbgrader": {
     "grade": false,
     "grade_id": "cell-b6a76e523057e463",
     "locked": true,
     "schema_version": 1,
     "solution": false
    }
   },
   "source": [
    "### 1.3.1) Reckless driving\n",
    "\n",
    "Given the code:\n",
    "```python\n",
    "traffic_light = \"Red\"\n",
    "\n",
    "if traffic_light == \"Green\":\n",
    "    action = \"Stop.\"\n",
    "elif traffic_light == \"Red\":\n",
    "    action = \"Go forward.\"\n",
    "else:\n",
    "    action = \"Turn right.\"\n",
    "\n",
    "```\n",
    "\n",
    "What is the value of `action`?"
   ]
  },
  {
   "cell_type": "code",
   "execution_count": 20,
   "metadata": {
    "deletable": false,
    "nbgrader": {
     "grade": false,
     "grade_id": "cell-cce49b7314add616",
     "locked": false,
     "schema_version": 1,
     "solution": true
    }
   },
   "outputs": [],
   "source": [
    "# Assign to variable action the value it would have if the code above was executed. \n",
    "\n",
    "action = \"Go forward.\""
   ]
  },
  {
   "cell_type": "code",
   "execution_count": 21,
   "metadata": {
    "deletable": false,
    "editable": false,
    "nbgrader": {
     "grade": true,
     "grade_id": "cell-97305f11f776d1a5",
     "locked": true,
     "points": 1,
     "schema_version": 1,
     "solution": false
    }
   },
   "outputs": [
    {
     "name": "stdout",
     "output_type": "stream",
     "text": [
      "Your solution is correct!\n"
     ]
    }
   ],
   "source": [
    "action_hash = 'aa4615f672c620de79597e6715674bdff165ea4764e73e9afa931c5bbb44439d'\n",
    "\n",
    "assert isinstance(action, str), \"Variable action should be a string.\"\n",
    "assert action_hash == hashlib.sha256(bytes(action, encoding='utf8')).hexdigest(), \"The value of variable action is incorrect.\"\n",
    "print(\"Your solution is correct!\")"
   ]
  },
  {
   "cell_type": "markdown",
   "metadata": {
    "deletable": false,
    "editable": false,
    "nbgrader": {
     "grade": false,
     "grade_id": "cell-891345889a547ad8",
     "locked": true,
     "schema_version": 1,
     "solution": false
    }
   },
   "source": [
    "---"
   ]
  },
  {
   "cell_type": "markdown",
   "metadata": {
    "deletable": false,
    "editable": false,
    "nbgrader": {
     "grade": false,
     "grade_id": "cell-f95a75ee54035fc0",
     "locked": true,
     "schema_version": 1,
     "solution": false
    }
   },
   "source": [
    "### 1.3.2)  Cinema tickets\n",
    "\n",
    "Given the code:\n",
    "```python\n",
    "age = 21\n",
    "is_student = True\n",
    "day_of_week = \"Wednesday\"\n",
    "full_price = 10.00\n",
    "\n",
    "if is_student and age < 18:\n",
    "    ticket_price = full_price / 2\n",
    "elif is_student and age >= 18:\n",
    "    ticket_price = full_price * 3 / 4\n",
    "elif day_of_week == \"Monday\":\n",
    "    ticket_price = full_price * 2 / 3   \n",
    "else:\n",
    "    ticket_price = full_price\n",
    "```\n",
    "\n",
    "What is the value of `ticket_price`?"
   ]
  },
  {
   "cell_type": "code",
   "execution_count": 22,
   "metadata": {
    "deletable": false,
    "nbgrader": {
     "grade": false,
     "grade_id": "cell-89716375f907d678",
     "locked": false,
     "schema_version": 1,
     "solution": true
    }
   },
   "outputs": [],
   "source": [
    "# Assign to variable ticket_price the value it would have if the code above was executed. \n",
    "\n",
    "ticket_price = 10.00*(3/4)"
   ]
  },
  {
   "cell_type": "code",
   "execution_count": 23,
   "metadata": {
    "deletable": false,
    "editable": false,
    "nbgrader": {
     "grade": true,
     "grade_id": "cell-1350367040ad9b58",
     "locked": true,
     "points": 1,
     "schema_version": 1,
     "solution": false
    }
   },
   "outputs": [
    {
     "name": "stdout",
     "output_type": "stream",
     "text": [
      "Your solution is correct!\n"
     ]
    }
   ],
   "source": [
    "assert isinstance(ticket_price, float), \"Review the data type of ticket_price.\"\n",
    "assert math.isclose(ticket_price, 7.5, abs_tol=0.005), \"The value of ticket_price is incorrect.\"\n",
    "print(\"Your solution is correct!\")"
   ]
  },
  {
   "cell_type": "markdown",
   "metadata": {
    "deletable": false,
    "editable": false,
    "nbgrader": {
     "grade": false,
     "grade_id": "cell-8d1b861328ecee34",
     "locked": true,
     "schema_version": 1,
     "solution": false
    }
   },
   "source": [
    "---"
   ]
  },
  {
   "cell_type": "markdown",
   "metadata": {
    "deletable": false,
    "editable": false,
    "nbgrader": {
     "grade": false,
     "grade_id": "cell-a311bbbf776d5578",
     "locked": true,
     "schema_version": 1,
     "solution": false
    }
   },
   "source": [
    "### 1.3.3) Shopping for groceries\n",
    "\n",
    "Given the code:\n",
    "```python\n",
    "groceries = {\"eggs\": 3, \"milk\": 4, \"tomatoes\": 4, \"soaps\": 1, \"carrots\": 6}\n",
    "budget = 10\n",
    "\n",
    "if len(groceries) > 4:\n",
    "    if groceries[\"eggs\"] > 6 and groceries[\"milk\"] > 2:\n",
    "        budget = 12\n",
    "    elif groceries[\"tomatoes\"] <= 2 or groceries[\"carrots\"] < 3:\n",
    "        budget = 32\n",
    "    elif groceries[\"soaps\"] < 4 or groceries[\"eggs\"] > 6:\n",
    "        budget = 40\n",
    "    else:\n",
    "        budget = 18\n",
    "else:\n",
    "    if groceries[\"eggs\"] < 6 and groceries[\"milk\"] <= 4:\n",
    "        budget = 6\n",
    "    elif groceries[\"tomatoes\"] < 2 or groceries[\"carrots\"] < 3:\n",
    "        budget = 4\n",
    "    else:\n",
    "        budget = 8\n",
    "```\n",
    "\n",
    "What is the value of `budget`?"
   ]
  },
  {
   "cell_type": "code",
   "execution_count": 24,
   "metadata": {
    "deletable": false,
    "nbgrader": {
     "grade": false,
     "grade_id": "cell-373d03ac81cc1129",
     "locked": false,
     "schema_version": 1,
     "solution": true
    }
   },
   "outputs": [],
   "source": [
    "# Assign to variable budget the value it would have if the code above was executed. \n",
    "\n",
    "budget = 40"
   ]
  },
  {
   "cell_type": "code",
   "execution_count": 25,
   "metadata": {
    "deletable": false,
    "editable": false,
    "nbgrader": {
     "grade": true,
     "grade_id": "cell-7b0857b8cabfbeab",
     "locked": true,
     "points": 1,
     "schema_version": 1,
     "solution": false
    }
   },
   "outputs": [
    {
     "name": "stdout",
     "output_type": "stream",
     "text": [
      "Your solution is correct!\n"
     ]
    }
   ],
   "source": [
    "budget_hash = 'd59eced1ded07f84c145592f65bdf854358e009c5cd705f5215bf18697fed103'\n",
    "\n",
    "assert isinstance(budget, int), \"Review the data type of budget.\"\n",
    "assert budget_hash == hashlib.sha256(json.dumps(budget).encode()).hexdigest(), \"The value of variable budget is incorrect.\"\n",
    "print(\"Your solution is correct!\")"
   ]
  },
  {
   "cell_type": "markdown",
   "metadata": {
    "deletable": false,
    "editable": false,
    "nbgrader": {
     "grade": false,
     "grade_id": "cell-582eaa38aff6821b",
     "locked": true,
     "schema_version": 1,
     "solution": false
    }
   },
   "source": [
    "---"
   ]
  },
  {
   "cell_type": "markdown",
   "metadata": {
    "deletable": false,
    "editable": false,
    "nbgrader": {
     "grade": false,
     "grade_id": "cell-d5767ea19f9b5d23",
     "locked": true,
     "schema_version": 1,
     "solution": false
    }
   },
   "source": [
    "# Exercise 2: `while` and `for` loops\n",
    "\n",
    "In this exercise you can use `while` and/or `for` loops to perform the tasks. It's up to decide which loop(s) you need.\n",
    "\n",
    "A tip: you won't need `if-elif-else` statements here."
   ]
  },
  {
   "cell_type": "markdown",
   "metadata": {
    "deletable": false,
    "editable": false,
    "nbgrader": {
     "grade": false,
     "grade_id": "cell-05f72c7dbabe8d3d",
     "locked": true,
     "schema_version": 1,
     "solution": false
    }
   },
   "source": [
    "## 2.1) Multiplying by 2\n",
    "\n",
    "Given base 2, what is the **smallest exponent** that gives a **value larger than 13210**?"
   ]
  },
  {
   "cell_type": "code",
   "execution_count": 5,
   "metadata": {
    "deletable": false,
    "nbgrader": {
     "grade": false,
     "grade_id": "cell-68e58a91a765c6cb",
     "locked": false,
     "schema_version": 1,
     "solution": true
    }
   },
   "outputs": [
    {
     "name": "stdout",
     "output_type": "stream",
     "text": [
      "14\n",
      "O expoente mais pequeno é 14, que dá um valor de 16384.\n"
     ]
    }
   ],
   "source": [
    "#Assign the exponent value on variable multi_counter.\n",
    "\n",
    "base = 2\n",
    "multi_counter = 0\n",
    "resultado = 0\n",
    "while resultado < 13210:\n",
    "    multi_counter=multi_counter+1\n",
    "    resultado = base**multi_counter\n",
    "    \n",
    "print(multi_counter)\n",
    "print(\"O expoente mais pequeno é {}, que dá um valor de {}.\" .format(multi_counter,resultado))"
   ]
  },
  {
   "cell_type": "code",
   "execution_count": 6,
   "metadata": {
    "deletable": false,
    "editable": false,
    "nbgrader": {
     "grade": true,
     "grade_id": "cell-b09b6a3df43346e0",
     "locked": true,
     "points": 2,
     "schema_version": 1,
     "solution": false
    }
   },
   "outputs": [
    {
     "name": "stdout",
     "output_type": "stream",
     "text": [
      "Your solution is correct!\n"
     ]
    }
   ],
   "source": [
    "multi_counter_hash = '8527a891e224136950ff32ca212b45bc93f69fbb801c3b1ebedac52775f99e61'\n",
    "\n",
    "assert isinstance(multi_counter, int), \"Review the data type of multi_counter.\"\n",
    "assert multi_counter_hash == hashlib.sha256(json.dumps(multi_counter).encode()).hexdigest(), \"The value of variable multi_counter is incorrect.\"\n",
    "print(\"Your solution is correct!\")"
   ]
  },
  {
   "cell_type": "markdown",
   "metadata": {
    "deletable": false,
    "editable": false,
    "nbgrader": {
     "grade": false,
     "grade_id": "cell-6e4ded96b9d50af0",
     "locked": true,
     "schema_version": 1,
     "solution": false
    }
   },
   "source": [
    "## 2.2) Summing  all positive integers until 100\n",
    "\n",
    "Calculate the sum of all positive integers until 100 (`1 + 2 + 3 +...+ 100`)."
   ]
  },
  {
   "cell_type": "code",
   "execution_count": 26,
   "metadata": {
    "deletable": false,
    "nbgrader": {
     "grade": false,
     "grade_id": "cell-0f95f2283fa7b5ed",
     "locked": false,
     "schema_version": 1,
     "solution": true
    }
   },
   "outputs": [
    {
     "name": "stdout",
     "output_type": "stream",
     "text": [
      "5050\n",
      "100\n"
     ]
    }
   ],
   "source": [
    "# Assign the sum of all positive integer until 100 to gauss_sum.\n",
    "\n",
    "#gauss_sum =\n",
    "counter=0\n",
    "soma = 0\n",
    "while counter < 100:\n",
    "    counter += 1\n",
    "    soma += counter\n",
    "gauss_sum = soma\n",
    "print(soma)\n",
    "print(counter)\n"
   ]
  },
  {
   "cell_type": "code",
   "execution_count": 20,
   "metadata": {
    "deletable": false,
    "editable": false,
    "nbgrader": {
     "grade": true,
     "grade_id": "cell-b15473e30437404d",
     "locked": true,
     "points": 2,
     "schema_version": 1,
     "solution": false
    }
   },
   "outputs": [
    {
     "name": "stdout",
     "output_type": "stream",
     "text": [
      "Your solution is correct!\n"
     ]
    }
   ],
   "source": [
    "gauss_sum_hash = '3f95b1b8a32c2c0251dfdbc3c8a30aab6d6e680cf0ef03e8af84a65dff0c4a85'\n",
    "\n",
    "assert isinstance(gauss_sum, int), \"Review the data type of gauss_sum.\"\n",
    "assert gauss_sum_hash == hashlib.sha256(json.dumps(gauss_sum).encode()).hexdigest(), \"The value of variable gauss_sum is incorrect.\"\n",
    "print(\"Your solution is correct!\")"
   ]
  },
  {
   "cell_type": "markdown",
   "metadata": {
    "deletable": false,
    "editable": false,
    "nbgrader": {
     "grade": false,
     "grade_id": "cell-e275b2f113f83eeb",
     "locked": true,
     "schema_version": 1,
     "solution": false
    }
   },
   "source": [
    "---"
   ]
  },
  {
   "cell_type": "markdown",
   "metadata": {
    "deletable": false,
    "editable": false,
    "nbgrader": {
     "grade": false,
     "grade_id": "cell-fe75c04bf71cac61",
     "locked": true,
     "schema_version": 1,
     "solution": false
    }
   },
   "source": [
    "## 2.3) Popsicle in the freezer\n",
    "\n",
    "In this exercise we'll be calculating the temperature of a popsicle in a freezer. Once the popsicle is in the freezer it starts to cooldown until it has the same temperature as the freezer. But this decrease in temperature is not linear over time. It depends on the difference of temperature between the popsicle and the freezer.\n",
    "\n",
    "The initial temperature of the popsicle is stored in `temp_popsicle[0]`. The **next** temperature of the popsicle is given by\n",
    "\n",
    "`temp_popsicle[1] = (temp_freezer - temp_popsicle[0]]) * dt + temp_popsicle[0]`\n",
    "\n",
    "where:\n",
    "\n",
    "- `temp_popsicle[1]` is the next temperature of the popsicle (after `dt` passed)\n",
    "- `temp_popsicle[0]` is the current temperature of the popsicle\n",
    "- `temp_freezer` is the temperature of the freezer. It is always constant.\n",
    "- `dt` is the time between observations.\n",
    "\n",
    "\n",
    "Your task is to use the values available and calculate the next temperature and **append it** to `temp_popsicle`. It becomes a list of size 2. The first element is the original temperature and the second element is the new calculated temperature. Then repeat the process by adding 1 on the indices of the equation so that for the second iteration `temp_popsicle[1]` becomes `temp_popsicle[2]` and `temp_popsicle[0]` becomes `temp_popsicle[1]`. Do this until you get a list with **length 80**.\n",
    "\n",
    "The value of temperature on index `i` of `temp_popsicle` is given by: \n",
    "\n",
    "`temp_popsicle[i] = (temp_freezer - temp_popsicle[i-1]]) * dt + temp_popsicle[i-1]`\n",
    "\n",
    "**Important**: everytime you want to execute your solution you need to execute the **next cell before**. If you don't, the `temp_popsicle` list will keep getting larger and larger size and you won't have the right result."
   ]
  },
  {
   "cell_type": "markdown",
   "metadata": {
    "deletable": false,
    "editable": false,
    "nbgrader": {
     "grade": false,
     "grade_id": "cell-4e0d4dfdd5760634",
     "locked": true,
     "schema_version": 1,
     "solution": false
    }
   },
   "source": [
    "The result should evolve like this:\n",
    "\n",
    "`temp_popsicle = [20]`\n",
    "\n",
    "becomes\n",
    "\n",
    "`temp_popsicle = [20 17.0]`\n",
    " \n",
    "and the equation becomes `temp_popsicle[2] = (temp_freezer - temp_popsicle[1]]) * dt + temp_popsicle[1]` resulting in:\n",
    " \n",
    "`temp_popsicle = [20 17.0 14.3]`\n",
    " \n",
    "Then you update the equation and calculate the next temperature and so on until you have a list of **length 80**."
   ]
  },
  {
   "cell_type": "code",
   "execution_count": 60,
   "metadata": {
    "deletable": false,
    "editable": false,
    "nbgrader": {
     "grade": false,
     "grade_id": "cell-64c7998faee65cd5",
     "locked": true,
     "schema_version": 1,
     "solution": false
    }
   },
   "outputs": [],
   "source": [
    "#Parameters of the exercise. Anytime you execute the exercise, execute this first.\n",
    "temp_popsicle = [20.0]\n",
    "temp_freezer = -10\n",
    "dt = 0.1"
   ]
  },
  {
   "cell_type": "code",
   "execution_count": 61,
   "metadata": {
    "deletable": false,
    "nbgrader": {
     "grade": false,
     "grade_id": "cell-4a8b61ca7fd9597b",
     "locked": false,
     "schema_version": 1,
     "solution": true
    }
   },
   "outputs": [
    {
     "name": "stdout",
     "output_type": "stream",
     "text": [
      "[20.0, 17.0, 14.3, 11.87, 9.68, 7.71, 5.94, 4.35, 2.91, 1.62, 0.46, -0.59, -1.53, -2.38, -3.14, -3.83, -4.45, -5.0, -5.5, -5.95, -6.36, -6.72, -7.05, -7.34, -7.61, -7.85, -8.06, -8.25, -8.43, -8.59, -8.73, -8.86, -8.97, -9.07, -9.16, -9.24, -9.32, -9.39, -9.45, -9.5, -9.55, -9.6, -9.64, -9.68, -9.71, -9.74, -9.77, -9.79, -9.81, -9.83, -9.85, -9.87, -9.88, -9.89, -9.9, -9.91, -9.92, -9.93, -9.94, -9.95, -9.96, -9.96, -9.96, -9.96, -9.96, -9.96, -9.96, -9.96, -9.96, -9.96, -9.96, -9.96, -9.96, -9.96, -9.96, -9.96, -9.96, -9.96, -9.96, -9.96] \n",
      " 80\n"
     ]
    }
   ],
   "source": [
    "lenght=80\n",
    "for temp in range(1,lenght):\n",
    "    temp_popsicle.insert(temp,(temp_freezer - temp_popsicle[temp-1]) * dt + temp_popsicle[temp-1])\n",
    "    temp_popsicle[temp]=round(temp_popsicle[temp],2)\n",
    "print(temp_popsicle,\"\\n\", len(temp_popsicle))\n",
    "# temp_popsicle= [...]\n",
    "# YOUR CODE HERE\n"
   ]
  },
  {
   "cell_type": "code",
   "execution_count": 62,
   "metadata": {
    "deletable": false,
    "editable": false,
    "nbgrader": {
     "grade": true,
     "grade_id": "cell-0c8fd7edbbfaf642",
     "locked": true,
     "points": 2,
     "schema_version": 1,
     "solution": false
    }
   },
   "outputs": [
    {
     "name": "stdout",
     "output_type": "stream",
     "text": [
      "Your solution is correct!\n"
     ]
    }
   ],
   "source": [
    "#Everytime you want to execute your code, execute the one above first!!!\n",
    "\n",
    "popsicle_hash = '48449a14a4ff7d79bb7a1b6f3d488eba397c36ef25634c111b49baf362511afc'\n",
    "\n",
    "assert isinstance(temp_popsicle, list), \"Review the data type of temp_popsicle.\"\n",
    "assert popsicle_hash == hashlib.sha256(json.dumps(len(temp_popsicle)).encode()).hexdigest(), \"The length of temp_popsicle is incorrect. Make sure to execute the parameter cell first!\"\n",
    "assert math.isclose(temp_popsicle[0], 20.0, abs_tol=0.1), \"The first value of temp_popsicle is incorrect.\"\n",
    "assert math.isclose(temp_popsicle[1], 17.0, abs_tol=0.1), \"The first temperature update is incorrect.\"\n",
    "assert math.isclose(temp_popsicle[2], 14.3, abs_tol=0.1), \"The second temperature update is incorrect.\"\n",
    "assert math.isclose(temp_popsicle[-1], -9.9, abs_tol=0.4), \"The final temperature is incorrect.\"\n",
    "print(\"Your solution is correct!\")"
   ]
  },
  {
   "cell_type": "markdown",
   "metadata": {
    "deletable": false,
    "editable": false,
    "nbgrader": {
     "grade": false,
     "grade_id": "cell-6815d1bf72f03489",
     "locked": true,
     "schema_version": 1,
     "solution": false
    }
   },
   "source": [
    "---"
   ]
  },
  {
   "cell_type": "markdown",
   "metadata": {
    "deletable": false,
    "editable": false,
    "nbgrader": {
     "grade": false,
     "grade_id": "cell-97dc77da82d43e30",
     "locked": true,
     "schema_version": 1,
     "solution": false
    }
   },
   "source": [
    "### Optional visualization (Not scored)\n",
    "\n",
    "Below a simple code that creates a plot of the temperature of the popsicle over time. This is only a sneak peak of the visualizations that are possible with matplotlib.\n",
    "\n",
    "If you are having problems with code below, you can ignored it. "
   ]
  },
  {
   "cell_type": "code",
   "execution_count": 64,
   "metadata": {},
   "outputs": [
    {
     "data": {
      "image/png": "[encoded data removed]",
      "text/plain": [
       "<Figure size 720x504 with 1 Axes>"
      ]
     },
     "metadata": {
      "needs_background": "light"
     },
     "output_type": "display_data"
    }
   ],
   "source": [
    "# I encourage you to, after completing the exercises, play with this code:\n",
    "# Change the colors and labels, use others lists as input, break the code.\n",
    "\n",
    "\n",
    "%matplotlib inline\n",
    "plt.rcParams[\"figure.figsize\"] = (10,7)\n",
    "ax=plt.gca()\n",
    "\n",
    "x = range(len(temp_popsicle))\n",
    "y = temp_popsicle\n",
    "\n",
    "plt.plot(x,y, '-', color='tab:blue')\n",
    "\n",
    "# General settings\n",
    "plt.xlim(x[0], x[-1])\n",
    "plt.ylim(temp_popsicle[-1], temp_popsicle[0])\n",
    "plt.ylabel(\"Temperature of popsicle (Cº)\",fontsize='xx-large')\n",
    "plt.xlabel('Time (min)',fontsize='xx-large')\n",
    "\n",
    "\n",
    "plt.grid(True, 'major', 'y', ls='--', lw=.5, c='k', alpha=.3)\n",
    "# Show graphic\n",
    "plt.show()"
   ]
  },
  {
   "cell_type": "markdown",
   "metadata": {
    "deletable": false,
    "editable": false,
    "nbgrader": {
     "grade": false,
     "grade_id": "cell-7f4c04ce6460583c",
     "locked": true,
     "schema_version": 1,
     "solution": false
    }
   },
   "source": [
    "---"
   ]
  },
  {
   "cell_type": "markdown",
   "metadata": {
    "deletable": false,
    "editable": false,
    "nbgrader": {
     "grade": false,
     "grade_id": "cell-3364086ed1b77398",
     "locked": true,
     "schema_version": 1,
     "solution": false
    }
   },
   "source": [
    "# 3) Using conditionals and loops together\n",
    "\n",
    "In this exercise, you'll need to use `if-elif-else` but also loops to solve the tasks.\n",
    "\n",
    "<img src=\"./media/fun_begins.gif\" />\n",
    "\n"
   ]
  },
  {
   "cell_type": "markdown",
   "metadata": {
    "deletable": false,
    "editable": false,
    "nbgrader": {
     "grade": false,
     "grade_id": "cell-917190445cf20a59",
     "locked": true,
     "schema_version": 1,
     "solution": false
    }
   },
   "source": [
    "## 3.1) The Collatz conjecture\n",
    "\n",
    "From [Wikipedia](https://en.wikipedia.org/wiki/Collatz_conjecture):\n",
    "\n",
    "> The Collatz conjecture is a conjecture in mathematics that concerns a sequence defined as follows: start with any positive integer n. Then each term is obtained from the previous term as follows: if the previous term is even, the next term is one half of the previous term. If the previous term is odd, the next term is 3 times the previous term plus 1. The conjecture is that no matter what value of n, the sequence will always reach 1. \n",
    "\n",
    "We'll put the conjecture to the test. We'll start the task with an initial value of `n = 134`.\n",
    "\n",
    "Next we'll apply an operation over `n` depending on its value:\n",
    "\n",
    "If `n` is **even** the next value of `n` is given by `n / 2`.\n",
    "\n",
    "If `n` is **odd** the next value of `n` is given by `3*n + 1`.\n",
    "\n",
    "We'll repeat this process until `n` is equal to 1.\n",
    "\n",
    "We want to know **how many operations are performed until `n` reaches 1** and assign this value to variable `collatz_operations`."
   ]
  },
  {
   "cell_type": "code",
   "execution_count": 18,
   "metadata": {
    "deletable": false,
    "nbgrader": {
     "grade": false,
     "grade_id": "cell-ca40d76b6b0fd084",
     "locked": false,
     "schema_version": 1,
     "solution": true
    }
   },
   "outputs": [
    {
     "name": "stdout",
     "output_type": "stream",
     "text": [
      "Operação nº 1, resultado = 134, sendo um numero par\n",
      "Operação nº 2, resultado = 67, sendo um numero ímpar\n",
      "Operação nº 3, resultado = 202, sendo um numero par\n",
      "Operação nº 4, resultado = 101, sendo um numero ímpar\n",
      "Operação nº 5, resultado = 304, sendo um numero par\n",
      "Operação nº 6, resultado = 152, sendo um numero par\n",
      "Operação nº 7, resultado = 76, sendo um numero par\n",
      "Operação nº 8, resultado = 38, sendo um numero par\n",
      "Operação nº 9, resultado = 19, sendo um numero ímpar\n",
      "Operação nº 10, resultado = 58, sendo um numero par\n",
      "Operação nº 11, resultado = 29, sendo um numero ímpar\n",
      "Operação nº 12, resultado = 88, sendo um numero par\n",
      "Operação nº 13, resultado = 44, sendo um numero par\n",
      "Operação nº 14, resultado = 22, sendo um numero par\n",
      "Operação nº 15, resultado = 11, sendo um numero ímpar\n",
      "Operação nº 16, resultado = 34, sendo um numero par\n",
      "Operação nº 17, resultado = 17, sendo um numero ímpar\n",
      "Operação nº 18, resultado = 52, sendo um numero par\n",
      "Operação nº 19, resultado = 26, sendo um numero par\n",
      "Operação nº 20, resultado = 13, sendo um numero ímpar\n",
      "Operação nº 21, resultado = 40, sendo um numero par\n",
      "Operação nº 22, resultado = 20, sendo um numero par\n",
      "Operação nº 23, resultado = 10, sendo um numero par\n",
      "Operação nº 24, resultado = 5, sendo um numero ímpar\n",
      "Operação nº 25, resultado = 16, sendo um numero par\n",
      "Operação nº 26, resultado = 8, sendo um numero par\n",
      "Operação nº 27, resultado = 4, sendo um numero par\n",
      "Operação nº 28, resultado = 2, sendo um numero par\n",
      "Operação nº 29, resultado = 1, sendo um numero par\n",
      "Foram feitas um total de 29 operações até atingir o valor 1, sendo a lista total de números [134, 67.0, 202.0, 101.0, 304.0, 152.0, 76.0, 38.0, 19.0, 58.0, 29.0, 88.0, 44.0, 22.0, 11.0, 34.0, 17.0, 52.0, 26.0, 13.0, 40.0, 20.0, 10.0, 5.0, 16.0, 8.0, 4.0, 2.0, 1.0]\n"
     ]
    }
   ],
   "source": [
    "#Assign the number of operations required to reach 1 to variable collatz_operations.\n",
    "collatz_operations=0\n",
    "n=[134]\n",
    "par_ou_impar = \"\"\n",
    "while n[-1] != 1:\n",
    "    if (n[collatz_operations] % 2) == 0:\n",
    "        par_ou_impar=\"par\"\n",
    "        n.append(n[collatz_operations]/2)        \n",
    "    else:\n",
    "        n.append(3*n[collatz_operations]+1)\n",
    "        par_ou_impar=\"ímpar\"\n",
    "    n_arredondado=int(n[collatz_operations])\n",
    "    collatz_operations+=1\n",
    "    print(f\"Operação nº {collatz_operations}, resultado = {n_arredondado}, sendo um numero {par_ou_impar}\")\n",
    "if n[-1] == 1:\n",
    "    print(f\"Operação nº {collatz_operations+1}, resultado = 1, sendo um numero par\")\n",
    "print(f\"Foram feitas um total de {len(n)} operações até atingir o valor 1, sendo a lista total de números {n}\")\n",
    "\n",
    "\n",
    "# collatz_operations =\n",
    "# YOUR CODE HERE"
   ]
  },
  {
   "cell_type": "code",
   "execution_count": 10,
   "metadata": {
    "deletable": false,
    "editable": false,
    "nbgrader": {
     "grade": true,
     "grade_id": "cell-822b5ec7dfe02776",
     "locked": true,
     "points": 2,
     "schema_version": 1,
     "solution": false
    }
   },
   "outputs": [
    {
     "name": "stdout",
     "output_type": "stream",
     "text": [
      "Your solution is correct!\n"
     ]
    }
   ],
   "source": [
    "collatz_operations_hash = '59e19706d51d39f66711c2653cd7eb1291c94d9b55eb14bda74ce4dc636d015a'\n",
    "\n",
    "assert isinstance(collatz_operations, int), \"The number of operations should be an integer.\"\n",
    "assert collatz_operations_hash == hashlib.sha256(json.dumps(collatz_operations).encode()).hexdigest(), \"The number of operations is incorrect.\"\n",
    "print(\"Your solution is correct!\")"
   ]
  },
  {
   "cell_type": "markdown",
   "metadata": {
    "deletable": false,
    "editable": false,
    "nbgrader": {
     "grade": false,
     "grade_id": "cell-a5fd95f2bfed9422",
     "locked": true,
     "schema_version": 1,
     "solution": false
    }
   },
   "source": [
    "---"
   ]
  },
  {
   "cell_type": "markdown",
   "metadata": {
    "deletable": false,
    "editable": false,
    "nbgrader": {
     "grade": false,
     "grade_id": "cell-234d2320f3bc45d9",
     "locked": true,
     "schema_version": 1,
     "solution": false
    }
   },
   "source": [
    "## 2.2) Football championship points\n",
    "\n",
    "In a particular football league a certain number of matches were played. A team wins if it has more goals than their opponents and the teams tie if the number of goals are equal. The team that wins the match gets 3 points. The losing team gets 0 points. In case of a tie, both teams get 1 point.\n",
    "\n",
    "The result of the matches is stored in `matches_outcome`, where each element is the match output in terms of goals.\n",
    "The goals of each team are placed after the name of the team.\n",
    "\n",
    "For example, `(\"Deadly Reptiles\",1,\"Short Clowns\",3)` means that the Deadly Reptiles scored 1 goal and the Short Clowns scored 3 goals.\n",
    "\n",
    "Update the dictionary `club_points` with the final number of points of each team.\n",
    "\n",
    "**Important**: everytime you want to execute your solution you need to execute the next cell before. If you don't, teams will keep getting more and more points and you won't have the right result."
   ]
  },
  {
   "cell_type": "code",
   "execution_count": 82,
   "metadata": {
    "deletable": false,
    "editable": false,
    "nbgrader": {
     "grade": false,
     "grade_id": "cell-07fb5a6bd4774e7b",
     "locked": true,
     "schema_version": 1,
     "solution": false
    }
   },
   "outputs": [],
   "source": [
    "matches_outcome = ((\"Deadly Reptiles\",1,\"Short Clowns\",3),\n",
    "                   (\"Breakfast Fallout\",1,\"Donkey Attackers\",1),\n",
    "                   (\"Deadly Reptiles\",2,\"Breakfast Fallout\",0),\n",
    "                   (\"Short Clowns\",1,\"Donkey Attackers\",1),\n",
    "                   (\"Short Clowns\",0,\"Breakfast Fallout\",0),\n",
    "                   (\"Donkey Attackers\",4,\"Deadly Reptiles\",3)\n",
    "                  )\n",
    "\n",
    "club_points = {\"Deadly Reptiles\":0, \"Short Clowns\":0, \"Breakfast Fallout\":0, \"Donkey Attackers\":0}"
   ]
  },
  {
   "cell_type": "code",
   "execution_count": null,
   "metadata": {},
   "outputs": [],
   "source": []
  },
  {
   "cell_type": "code",
   "execution_count": 83,
   "metadata": {
    "deletable": false,
    "nbgrader": {
     "grade": false,
     "grade_id": "cell-0a458560de5f3c4e",
     "locked": false,
     "schema_version": 1,
     "solution": true
    }
   },
   "outputs": [
    {
     "name": "stdout",
     "output_type": "stream",
     "text": [
      "Jornada 1, o vencedor Short Clowns\n",
      "Jornada 2, o vencedor foram as duas equipas!\n",
      "Jornada 3, o vencedor Deadly Reptiles\n",
      "Jornada 4, o vencedor foram as duas equipas!\n",
      "Jornada 5, o vencedor foram as duas equipas!\n",
      "Jornada 6, o vencedor Donkey Attackers\n",
      "{'Deadly Reptiles': 3, 'Short Clowns': 5, 'Breakfast Fallout': 2, 'Donkey Attackers': 5}\n"
     ]
    }
   ],
   "source": [
    "counter=0\n",
    "for jogo in matches_outcome:\n",
    "    counter+=1\n",
    "    if jogo[1] < jogo[-1]:\n",
    "        club_points[jogo[-2]]+=3\n",
    "        vencedor=jogo[-2]\n",
    "    elif jogo[1] == jogo[-1]:\n",
    "        club_points[jogo[-2]]+=1\n",
    "        club_points[jogo[0]]+=1\n",
    "        vencedor=\"foram as duas equipas!\"\n",
    "    else:\n",
    "        club_points[jogo[0]]+=3\n",
    "        vencedor=jogo[0]\n",
    "    print(f\"Jornada {counter}, o vencedor {vencedor}\")\n",
    "    \n",
    "\n",
    "print (club_points)\n"
   ]
  },
  {
   "cell_type": "code",
   "execution_count": 84,
   "metadata": {
    "deletable": false,
    "editable": false,
    "nbgrader": {
     "grade": true,
     "grade_id": "cell-65f0dc204b4b0812",
     "locked": true,
     "points": 2,
     "schema_version": 1,
     "solution": false
    }
   },
   "outputs": [
    {
     "name": "stdout",
     "output_type": "stream",
     "text": [
      "Your solution is correct!\n"
     ]
    }
   ],
   "source": [
    "#Everytime you want to execute your code, execute the one above first!!!\n",
    "\n",
    "reptile_hash = '4e07408562bedb8b60ce05c1decfe3ad16b72230967de01f640b7e4729b49fce'\n",
    "clowns_hash = 'ef2d127de37b942baad06145e54b0c619a1f22327b2ebbcfbec78f5564afe39d'\n",
    "fallout_hash = 'd4735e3a265e16eee03f59718b9b5d03019c07d8b6c51f90da3a666eec13ab35'\n",
    "attackers_hash = 'ef2d127de37b942baad06145e54b0c619a1f22327b2ebbcfbec78f5564afe39d'\n",
    "\n",
    "assert isinstance(club_points, dict), \"Variable club_points should be a dictionary.\"\n",
    "assert reptile_hash == hashlib.sha256(json.dumps(club_points[\"Deadly Reptiles\"]).encode()).hexdigest(), \"The number of points for the Deadly Reptiles is incorrect.\"\n",
    "assert clowns_hash == hashlib.sha256(json.dumps(club_points[\"Short Clowns\"]).encode()).hexdigest(), \"The number of points for the Deadly Reptiles is incorrect.\"\n",
    "assert fallout_hash == hashlib.sha256(json.dumps(club_points[\"Breakfast Fallout\"]).encode()).hexdigest(), \"The number of points for the Deadly Reptiles is incorrect.\"\n",
    "assert attackers_hash == hashlib.sha256(json.dumps(club_points[\"Donkey Attackers\"]).encode()).hexdigest(), \"The number of points for the Deadly Reptiles is incorrect.\"\n",
    "print(\"Your solution is correct!\")"
   ]
  },
  {
   "cell_type": "markdown",
   "metadata": {
    "deletable": false,
    "editable": false,
    "nbgrader": {
     "grade": false,
     "grade_id": "cell-348b4a9657a80dd0",
     "locked": true,
     "schema_version": 1,
     "solution": false
    }
   },
   "source": [
    "---"
   ]
  },
  {
   "cell_type": "markdown",
   "metadata": {
    "deletable": false,
    "editable": false,
    "nbgrader": {
     "grade": false,
     "grade_id": "cell-c1645d4608319a91",
     "locked": true,
     "schema_version": 1,
     "solution": false
    }
   },
   "source": [
    "# 3) List comprehension\n",
    "\n",
    "In this exercise we'll perform some tasks that are simpler to do with list comprehension. "
   ]
  },
  {
   "cell_type": "markdown",
   "metadata": {
    "deletable": false,
    "editable": false,
    "nbgrader": {
     "grade": false,
     "grade_id": "cell-36ba7cc0e6daf410",
     "locked": true,
     "schema_version": 1,
     "solution": false
    }
   },
   "source": [
    "## 3.1) Filter and grow\n",
    "\n",
    "Given the list `[\"Lighting\", 23, 1.3, \"potatoes\", [1, 2, 3], 4.5, 7]` we want to create a list with **only the numeric values and each value should be multiplied by 3.**\n",
    "You should solve this with one line of code."
   ]
  },
  {
   "cell_type": "code",
   "execution_count": 112,
   "metadata": {
    "deletable": false,
    "editable": false,
    "nbgrader": {
     "grade": false,
     "grade_id": "cell-c66b376ce44cf421",
     "locked": true,
     "schema_version": 1,
     "solution": false
    }
   },
   "outputs": [],
   "source": [
    "original_list = [\"Lighting\", 24, 1.21, \"potatoes\", [1, 2, 3], 4.5, 7]"
   ]
  },
  {
   "cell_type": "code",
   "execution_count": null,
   "metadata": {},
   "outputs": [],
   "source": []
  },
  {
   "cell_type": "code",
   "execution_count": 115,
   "metadata": {
    "deletable": false,
    "nbgrader": {
     "grade": false,
     "grade_id": "cell-d2b9abfbcaf35a41",
     "locked": false,
     "schema_version": 1,
     "solution": true
    }
   },
   "outputs": [
    {
     "name": "stdout",
     "output_type": "stream",
     "text": [
      "[72, 3.63, 13.5, 21]\n"
     ]
    }
   ],
   "source": [
    "# Create a list comprehension that iterates over original_list.\n",
    "# The result should be a list assigned to processed_list.\n",
    "# Execute the cell above \n",
    "\n",
    "processed_list = [i*3 for i in original_list if isinstance(i,int) or isinstance (i,float)]\n",
    "print(processed_list)"
   ]
  },
  {
   "cell_type": "code",
   "execution_count": 116,
   "metadata": {
    "deletable": false,
    "editable": false,
    "nbgrader": {
     "grade": true,
     "grade_id": "cell-9f9722689d8a954e",
     "locked": true,
     "points": 2,
     "schema_version": 1,
     "solution": false
    }
   },
   "outputs": [
    {
     "name": "stdout",
     "output_type": "stream",
     "text": [
      "Your solution is correct!\n"
     ]
    }
   ],
   "source": [
    "processed_hash = '4b227777d4dd1fc61c6f884f48641d02b4d121d3fd328cb08b5531fcacdabf8a'\n",
    "\n",
    "assert isinstance(processed_list, list), \"Review the data type of temp_popsicle.\"\n",
    "assert processed_hash == hashlib.sha256(json.dumps(len(processed_list)).encode()).hexdigest(), \"The length of processed_list is incorrect.\"\n",
    "assert math.isclose(processed_list[0], 72, abs_tol=0.1), \"The some values of processed_list are incorrect.\"\n",
    "assert math.isclose(processed_list[2], 13.5, abs_tol=0.1), \"The some values of processed_list are incorrect.\"\n",
    "print(\"Your solution is correct!\")"
   ]
  },
  {
   "cell_type": "markdown",
   "metadata": {
    "deletable": false,
    "editable": false,
    "nbgrader": {
     "grade": false,
     "grade_id": "cell-896cff25e329541d",
     "locked": true,
     "schema_version": 1,
     "solution": false
    }
   },
   "source": [
    "---"
   ]
  },
  {
   "cell_type": "markdown",
   "metadata": {
    "deletable": false,
    "editable": false,
    "nbgrader": {
     "grade": false,
     "grade_id": "cell-0d47972881e6fe4c",
     "locked": true,
     "schema_version": 1,
     "solution": false
    }
   },
   "source": [
    "## 3.2) Symmetric matrix\n",
    "\n",
    "Create the following list of lists (matrix):\n",
    "\n",
    "$\n",
    "\\begin{bmatrix}\n",
    "\\begin{bmatrix}0 & 1 & 2 & 3 & 4\\end{bmatrix},\\\\\n",
    "\\begin{bmatrix}1 & 2 & 3 & 4 & 5\\end{bmatrix},\\\\\n",
    "\\begin{bmatrix}2 & 3 & 4 & 5 & 6\\end{bmatrix},\\\\\n",
    "\\begin{bmatrix}3 & 4 & 5 & 6 & 7\\end{bmatrix},\\\\\n",
    "\\begin{bmatrix}4 & 5 & 6 & 7 & 8\\end{bmatrix}\\space\\\\\n",
    "\\end{bmatrix}\n",
    "$"
   ]
  },
  {
   "cell_type": "code",
   "execution_count": 151,
   "metadata": {
    "deletable": false,
    "nbgrader": {
     "grade": false,
     "grade_id": "cell-6cc7446a5944ed73",
     "locked": false,
     "schema_version": 1,
     "solution": true
    }
   },
   "outputs": [
    {
     "data": {
      "text/plain": [
       "[[0, 1, 2, 3, 4],\n",
       " [1, 2, 3, 4, 5],\n",
       " [2, 3, 4, 5, 6],\n",
       " [3, 4, 5, 6, 7],\n",
       " [4, 5, 6, 7, 8]]"
      ]
     },
     "execution_count": 151,
     "metadata": {},
     "output_type": "execute_result"
    }
   ],
   "source": [
    "# Create the list of lists above using list comprehension.\n",
    "# The result should be a list assigned to matrix_list. \n",
    "\n",
    " \n",
    "\n",
    "\n",
    "matrix_list = [[numero+i for numero in range (5)] for i in range(5)]\n",
    "matrix_list\n"
   ]
  },
  {
   "cell_type": "code",
   "execution_count": 152,
   "metadata": {
    "deletable": false,
    "editable": false,
    "nbgrader": {
     "grade": true,
     "grade_id": "cell-40aece1a4ce01dcb",
     "locked": true,
     "points": 2,
     "schema_version": 1,
     "solution": false
    }
   },
   "outputs": [
    {
     "name": "stdout",
     "output_type": "stream",
     "text": [
      "Your solution is correct!\n"
     ]
    }
   ],
   "source": [
    "matrix_hash = 'ef2d127de37b942baad06145e54b0c619a1f22327b2ebbcfbec78f5564afe39d'\n",
    "\n",
    "assert isinstance(matrix_list, list), \"Review the data type of temp_popsicle.\"\n",
    "assert matrix_hash == hashlib.sha256(json.dumps(len(matrix_list)).encode()).hexdigest(), \"The length of matrix_list is incorrect.\"\n",
    "assert matrix_hash == hashlib.sha256(json.dumps(len(matrix_list[0])).encode()).hexdigest(), \"The length of the first element of matrix_list is incorrect.\"\n",
    "assert matrix_hash == hashlib.sha256(json.dumps(matrix_list[2][3]).encode()).hexdigest(), \"Some values are incorrect.\"\n",
    "assert matrix_hash == hashlib.sha256(json.dumps(matrix_list[3][2]).encode()).hexdigest(), \"Some values are incorrect.\"\n",
    "print(\"Your solution is correct!\")"
   ]
  },
  {
   "cell_type": "markdown",
   "metadata": {
    "deletable": false,
    "editable": false,
    "nbgrader": {
     "grade": false,
     "grade_id": "cell-6e8209ee43a036f6",
     "locked": true,
     "schema_version": 1,
     "solution": false
    }
   },
   "source": [
    "---"
   ]
  },
  {
   "cell_type": "markdown",
   "metadata": {
    "deletable": false,
    "editable": false,
    "nbgrader": {
     "grade": false,
     "grade_id": "cell-c08f27742b99b721",
     "locked": true,
     "schema_version": 1,
     "solution": false
    }
   },
   "source": [
    "### Extra fact:\n",
    "\n",
    "There is a [story](http://mathandmultimedia.com/2010/09/15/sum-first-n-positive-integers/) about how [Gauss](https://en.wikipedia.org/wiki/Carl_Friedrich_Gauss#Anecdotes) discovered a formula to calculate the sum of the first `n` positive integers. If there is a formula or a simple calculation that you can perform to avoid extensive code, why not using it instead? "
   ]
  }
 ],
 "metadata": {
  "kernelspec": {
   "display_name": "Python 3",
   "language": "python",
   "name": "python3"
  },
  "language_info": {
   "codemirror_mode": {
    "name": "ipython",
    "version": 3
   },
   "file_extension": ".py",
   "mimetype": "text/x-python",
   "name": "python",
   "nbconvert_exporter": "python",
   "pygments_lexer": "ipython3",
   "version": "3.6.9"
  }
 },
 "nbformat": 4,
 "nbformat_minor": 2
}
